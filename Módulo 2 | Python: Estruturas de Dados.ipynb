{
  "nbformat": 4,
  "nbformat_minor": 0,
  "metadata": {
    "colab": {
      "provenance": [],
      "include_colab_link": true
    },
    "kernelspec": {
      "name": "python3",
      "display_name": "Python 3"
    }
  },
  "cells": [
    {
      "cell_type": "markdown",
      "metadata": {
        "id": "view-in-github",
        "colab_type": "text"
      },
      "source": [
        "<a href=\"https://colab.research.google.com/github/camilacruz-cs/Python-para-Analise-de-Dados-EBAC/blob/main/M%C3%B3dulo%202%20%7C%20Python%3A%20Estruturas%20de%20Dados.ipynb\" target=\"_parent\"><img src=\"https://colab.research.google.com/assets/colab-badge.svg\" alt=\"Open In Colab\"/></a>"
      ]
    },
    {
      "cell_type": "markdown",
      "metadata": {
        "id": "KJqp9AANOCtf"
      },
      "source": [
        "<img src=\"https://raw.githubusercontent.com/andre-marcos-perez/ebac-course-utils/main/media/logo/newebac_logo_black_half.png\" alt=\"ebac-logo\">\n",
        "\n",
        "---\n",
        "\n",
        "# **Módulo** | Python: Estruturas de Dados\n",
        "Caderno de **Exercícios**<br>\n",
        "Professor [André Perez](https://www.linkedin.com/in/andremarcosperez/)\n",
        "\n",
        "---"
      ]
    },
    {
      "cell_type": "markdown",
      "metadata": {
        "id": "d9jDtUbDOE1-"
      },
      "source": [
        "# **Tópicos**\n",
        "\n",
        "<ol type=\"1\">\n",
        "  <li>Listas;</li>\n",
        "  <li>Conjuntos;</li>\n",
        "  <li>Dicionários.</li>\n",
        "</ol>"
      ]
    },
    {
      "cell_type": "markdown",
      "metadata": {
        "id": "SmoHgt-lwkpD"
      },
      "source": [
        "---"
      ]
    },
    {
      "cell_type": "markdown",
      "metadata": {
        "id": "GABI6OW8OfQ2"
      },
      "source": [
        "# **Exercícios**"
      ]
    },
    {
      "cell_type": "markdown",
      "metadata": {
        "id": "muD1vxozykSC"
      },
      "source": [
        "## 1\\. Listas"
      ]
    },
    {
      "cell_type": "markdown",
      "metadata": {
        "id": "ahrFfCuBxJKs"
      },
      "source": [
        "Criei uma lista chamada `filmes` com o nome dos 10 primeiros filmes mais bem avaliados no site no [IMDB](https://www.imdb.com/chart/top/). Imprima o resultado."
      ]
    },
    {
      "cell_type": "code",
      "metadata": {
        "id": "OgL6Hv3bzOHI"
      },
      "source": [
        "filmes = [...]"
      ],
      "execution_count": null,
      "outputs": []
    },
    {
      "cell_type": "code",
      "source": [
        "filmes.append('A Origem')\n",
        "print(filmes)"
      ],
      "metadata": {
        "colab": {
          "base_uri": "https://localhost:8080/"
        },
        "id": "6-8WjFtlle6g",
        "outputId": "fbe7aaab-dfa4-46b3-8101-a1aa7be54438"
      },
      "execution_count": null,
      "outputs": [
        {
          "output_type": "stream",
          "name": "stdout",
          "text": [
            "[Ellipsis, 'Clube da Luta', 'Clube da Luta', 'A Origem']\n"
          ]
        }
      ]
    },
    {
      "cell_type": "code",
      "source": [
        "filmes.append('O Império Contra-Ataca')\n",
        "print(filmes)"
      ],
      "metadata": {
        "colab": {
          "base_uri": "https://localhost:8080/"
        },
        "id": "uTSJJx88lzUa",
        "outputId": "ebeeb2f7-86ca-4c86-b8fb-90949d77728c"
      },
      "execution_count": null,
      "outputs": [
        {
          "output_type": "stream",
          "name": "stdout",
          "text": [
            "[Ellipsis, 'Clube da Luta', 'Clube da Luta', 'A Origem', 'O Império Contra-Ataca']\n"
          ]
        }
      ]
    },
    {
      "cell_type": "code",
      "source": [
        "filmes.append('Cidade de Deus')\n",
        "print(filmes)"
      ],
      "metadata": {
        "colab": {
          "base_uri": "https://localhost:8080/"
        },
        "id": "8Spkw9Hel9RK",
        "outputId": "c4c48bf0-57d9-47fc-d965-cb043fbbe9b2"
      },
      "execution_count": null,
      "outputs": [
        {
          "output_type": "stream",
          "name": "stdout",
          "text": [
            "[Ellipsis, 'Clube da Luta', 'Clube da Luta', 'A Origem', 'O Império Contra-Ataca', 'Cidade de Deus']\n"
          ]
        }
      ]
    },
    {
      "cell_type": "code",
      "source": [
        "filmes.append('O Silêncio dos Inocentes')\n",
        "print(filmes)"
      ],
      "metadata": {
        "colab": {
          "base_uri": "https://localhost:8080/"
        },
        "id": "gCgGWF-OmKYC",
        "outputId": "d5bdccfb-496e-45f2-9dbe-928cc8107d1e"
      },
      "execution_count": null,
      "outputs": [
        {
          "output_type": "stream",
          "name": "stdout",
          "text": [
            "[Ellipsis, 'Clube da Luta', 'Clube da Luta', 'A Origem', 'O Império Contra-Ataca', 'Cidade de Deus', 'O Silêncio dos Inocentes']\n"
          ]
        }
      ]
    },
    {
      "cell_type": "code",
      "source": [
        "filmes.append('A Vida é Bela')\n",
        "print(filmes)"
      ],
      "metadata": {
        "colab": {
          "base_uri": "https://localhost:8080/"
        },
        "id": "VGvpRq2ImTzm",
        "outputId": "add0a297-d85a-4307-fe76-3f08fdef72cb"
      },
      "execution_count": null,
      "outputs": [
        {
          "output_type": "stream",
          "name": "stdout",
          "text": [
            "[Ellipsis, 'Clube da Luta', 'Clube da Luta', 'A Origem', 'O Império Contra-Ataca', 'Cidade de Deus', 'O Silêncio dos Inocentes', 'A Vida é Bela']\n"
          ]
        }
      ]
    },
    {
      "cell_type": "code",
      "source": [
        "filmes.append('A Espera de um Milagre')\n",
        "print(filmes)"
      ],
      "metadata": {
        "colab": {
          "base_uri": "https://localhost:8080/"
        },
        "id": "dy0WF7EImjHG",
        "outputId": "9ff3663b-fc6c-47af-b5d5-162cf2c490e5"
      },
      "execution_count": null,
      "outputs": [
        {
          "output_type": "stream",
          "name": "stdout",
          "text": [
            "[Ellipsis, 'Clube da Luta', 'Clube da Luta', 'A Origem', 'O Império Contra-Ataca', 'Cidade de Deus', 'O Silêncio dos Inocentes', 'A Vida é Bela', 'A Espera de um Milagre']\n"
          ]
        }
      ]
    },
    {
      "cell_type": "code",
      "source": [
        "filmes.append('O Poderoso Chefão')\n",
        "print(filmes)"
      ],
      "metadata": {
        "colab": {
          "base_uri": "https://localhost:8080/"
        },
        "id": "um3mh638mrRK",
        "outputId": "d0e062dc-ed25-47f8-91c1-88f0fe26a13a"
      },
      "execution_count": null,
      "outputs": [
        {
          "output_type": "stream",
          "name": "stdout",
          "text": [
            "[Ellipsis, 'Clube da Luta', 'Clube da Luta', 'A Origem', 'O Império Contra-Ataca', 'Cidade de Deus', 'O Silêncio dos Inocentes', 'A Vida é Bela', 'A Espera de um Milagre', 'O Poderoso Chefão']\n"
          ]
        }
      ]
    },
    {
      "cell_type": "code",
      "source": [
        "filmes.append('Batman: O Cavaleiro das Trevas ')\n",
        "print(filmes)"
      ],
      "metadata": {
        "colab": {
          "base_uri": "https://localhost:8080/"
        },
        "id": "raPrgQG5m0GB",
        "outputId": "68a3ae5a-0a22-4d25-b9dc-da6d9a476ef4"
      },
      "execution_count": null,
      "outputs": [
        {
          "output_type": "stream",
          "name": "stdout",
          "text": [
            "[Ellipsis, 'Clube da Luta', 'Clube da Luta', 'A Origem', 'O Império Contra-Ataca', 'Cidade de Deus', 'O Silêncio dos Inocentes', 'A Vida é Bela', 'A Espera de um Milagre', 'O Poderoso Chefão', 'Batman: O Cavaleiro das Trevas ']\n"
          ]
        }
      ]
    },
    {
      "cell_type": "code",
      "source": [
        "filmes.append('12 Homens e uma Sentença')\n",
        "print(filmes)"
      ],
      "metadata": {
        "colab": {
          "base_uri": "https://localhost:8080/"
        },
        "id": "e8WRwLBpmz18",
        "outputId": "2cb4e715-e64d-4634-cca1-0e15c64b8512"
      },
      "execution_count": null,
      "outputs": [
        {
          "output_type": "stream",
          "name": "stdout",
          "text": [
            "[Ellipsis, 'Clube da Luta', 'Clube da Luta', 'A Origem', 'O Império Contra-Ataca', 'Cidade de Deus', 'O Silêncio dos Inocentes', 'A Vida é Bela', 'A Espera de um Milagre', 'O Poderoso Chefão', 'Batman: O Cavaleiro das Trevas ', '12 Homens e uma Sentença']\n"
          ]
        }
      ]
    },
    {
      "cell_type": "markdown",
      "metadata": {
        "id": "KI9zQRT2xa7m"
      },
      "source": [
        "Simule a movimentação do *ranking*. Utilize os métodos `insert` e `pop` para trocar a posição do primeiro e do segundo filme da lista. Imprima o resultado.\n",
        "\n"
      ]
    },
    {
      "cell_type": "code",
      "metadata": {
        "id": "zX3mA3_GzrXH",
        "colab": {
          "base_uri": "https://localhost:8080/"
        },
        "outputId": "6101dbe4-1a91-4b48-add0-e92c577371c6"
      },
      "source": [
        "#Insert - Objetivo: Adicionar o filme antes de 'Ellipsis'\n",
        "filmes.insert(0,'Dança com Lobos')\n",
        "print(filmes)"
      ],
      "execution_count": null,
      "outputs": [
        {
          "output_type": "stream",
          "name": "stdout",
          "text": [
            "['Dança com Lobos', Ellipsis, 'Clube da Luta', 'Clube da Luta', 'A Origem', 'O Império Contra-Ataca', 'Cidade de Deus', 'O Silêncio dos Inocentes', 'A Vida é Bela', 'A Espera de um Milagre', 'O Poderoso Chefão', 'Batman: O Cavaleiro das Trevas ', '12 Homens e uma Sentença']\n"
          ]
        }
      ]
    },
    {
      "cell_type": "markdown",
      "metadata": {
        "id": "zMN1Q3jdwoJm"
      },
      "source": [
        "---"
      ]
    },
    {
      "cell_type": "code",
      "source": [
        "#pop - Objetivo: Tirar o filme '12 Homens e Uma sentença'\n",
        "\n",
        "filmes.pop(12)\n",
        "print(filmes)"
      ],
      "metadata": {
        "colab": {
          "base_uri": "https://localhost:8080/"
        },
        "id": "oRYNN7qcoDgk",
        "outputId": "a9ff175c-5ac8-4e7e-bb39-b12998790c9b"
      },
      "execution_count": null,
      "outputs": [
        {
          "output_type": "stream",
          "name": "stdout",
          "text": [
            "['Dança com Lobos', Ellipsis, 'Clube da Luta', 'Clube da Luta', 'A Origem', 'O Império Contra-Ataca', 'Cidade de Deus', 'O Silêncio dos Inocentes', 'A Vida é Bela', 'A Espera de um Milagre', 'O Poderoso Chefão', 'Batman: O Cavaleiro das Trevas ']\n"
          ]
        }
      ]
    },
    {
      "cell_type": "markdown",
      "metadata": {
        "id": "lxa5L6uF0ZJE"
      },
      "source": [
        "## 2\\. Conjuntos"
      ]
    },
    {
      "cell_type": "markdown",
      "metadata": {
        "id": "9JahS2Kj0d5u"
      },
      "source": [
        "Aconteceu um erro no seu *ranking*. Simule a duplicação dos três últimos filmes da lista. Imprima o resultado."
      ]
    },
    {
      "cell_type": "code",
      "metadata": {
        "id": "BnjnLBNC6PGe",
        "colab": {
          "base_uri": "https://localhost:8080/"
        },
        "outputId": "7b3b433d-b72b-482e-94a5-9b4ea78b42d7"
      },
      "source": [
        "print(filmes)"
      ],
      "execution_count": null,
      "outputs": [
        {
          "output_type": "stream",
          "name": "stdout",
          "text": [
            "['Dança com Lobos', Ellipsis, 'Clube da Luta', 'Clube da Luta', 'A Origem', 'O Império Contra-Ataca', 'Cidade de Deus', 'O Silêncio dos Inocentes', 'A Vida é Bela', 'A Espera de um Milagre', 'O Poderoso Chefão', 'Batman: O Cavaleiro das Trevas ']\n"
          ]
        }
      ]
    },
    {
      "cell_type": "markdown",
      "metadata": {
        "id": "suxTfCJB6ZiX"
      },
      "source": [
        "Utiliza a conversão `set` e `list` para remover os valores duplicados. Imprima o resultado."
      ]
    },
    {
      "cell_type": "code",
      "metadata": {
        "id": "ZvUGN-0n6joM",
        "colab": {
          "base_uri": "https://localhost:8080/"
        },
        "outputId": "7289dcd9-915e-4bdd-c22c-ec9f2c4f3606"
      },
      "source": [
        "print(type(set(filmes)))\n",
        "print(filmes)\n",
        "print(len(filmes))"
      ],
      "execution_count": null,
      "outputs": [
        {
          "output_type": "stream",
          "name": "stdout",
          "text": [
            "<class 'set'>\n",
            "['Dança com Lobos', Ellipsis, 'Clube da Luta', 'Clube da Luta', 'A Origem', 'O Império Contra-Ataca', 'Cidade de Deus', 'O Silêncio dos Inocentes', 'A Vida é Bela', 'A Espera de um Milagre', 'O Poderoso Chefão', 'Batman: O Cavaleiro das Trevas ']\n",
            "12\n"
          ]
        }
      ]
    },
    {
      "cell_type": "markdown",
      "metadata": {
        "id": "ShkK35eQ6pAM"
      },
      "source": [
        "---"
      ]
    },
    {
      "cell_type": "markdown",
      "metadata": {
        "id": "EL_FzmxL6rTv"
      },
      "source": [
        "## 3\\. Dicionários"
      ]
    },
    {
      "cell_type": "markdown",
      "metadata": {
        "id": "i8l0gFqRCpfT"
      },
      "source": [
        "Repita os exercícios da parte 1 (listas). Os elementos da lista `filmes` devem ser dicionários no seguinte formato: `{'nome': <nome-do-filme>, 'ano': <ano do filme>, 'sinopse': <sinopse do filme>}`."
      ]
    },
    {
      "cell_type": "code",
      "metadata": {
        "id": "tu6MSFwGDnHv",
        "colab": {
          "base_uri": "https://localhost:8080/"
        },
        "outputId": "2df046fe-e32d-4b32-ef7f-dbde1a9dcfc9"
      },
      "source": [
        "IMDb = {\n",
        "    'nome': 'Um Sonho de Liberdade',\n",
        "     'Ano': 1994,\n",
        "      'Sinopse' : 'Dois homens presos se reúnem ao longo de vários anos, encontrando consolo e eventual redenção através de atos de decência comum.'\n",
        "    }, {\n",
        "        'nome' : 'O Poderoso Chefão',\n",
        "        'Ano' : 1972,\n",
        "        'Sinopse' : 'O patriarca idoso de uma dinastia do crime organizado transfere o controle de seu império clandestino para seu filho relutante.'\n",
        "    }\n",
        "\n",
        "print(IMDb)"
      ],
      "execution_count": null,
      "outputs": [
        {
          "output_type": "stream",
          "name": "stdout",
          "text": [
            "({'nome': 'Um Sonho de Liberdade', 'Ano': 1994, 'Sinopse': 'Dois homens presos se reúnem ao longo de vários anos, encontrando consolo e eventual redenção através de atos de decência comum.'}, {'nome': 'O Poderoso Chefão', 'Ano': 1972, 'Sinopse': 'O patriarca idoso de uma dinastia do crime organizado transfere o controle de seu império clandestino para seu filho relutante.'})\n"
          ]
        }
      ]
    }
  ]
}