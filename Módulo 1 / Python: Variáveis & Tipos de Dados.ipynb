{
  "nbformat": 4,
  "nbformat_minor": 0,
  "metadata": {
    "colab": {
      "provenance": [],
      "include_colab_link": true
    },
    "kernelspec": {
      "name": "python3",
      "display_name": "Python 3"
    }
  },
  "cells": [
    {
      "cell_type": "markdown",
      "metadata": {
        "id": "view-in-github",
        "colab_type": "text"
      },
      "source": [
        "<a href=\"https://colab.research.google.com/github/camilacruz-cs/Python-para-Analise-de-Dados-EBAC/blob/main/M%C3%B3dulo%201%20%7C%20Python%3A%20Vari%C3%A1veis%20%26%20Tipos%20de%20Dados.ipynb\" target=\"_parent\"><img src=\"https://colab.research.google.com/assets/colab-badge.svg\" alt=\"Open In Colab\"/></a>"
      ]
    },
    {
      "cell_type": "markdown",
      "metadata": {
        "id": "KJqp9AANOCtf"
      },
      "source": [
        "<img src=\"https://raw.githubusercontent.com/andre-marcos-perez/ebac-course-utils/main/media/logo/newebac_logo_black_half.png\" alt=\"ebac-logo\">\n",
        "\n",
        "---\n",
        "\n",
        "# **Módulo** | Python: Variáveis & Tipos de Dados\n",
        "Caderno de **Exercícios**<br>\n",
        "Professor [André Perez](https://www.linkedin.com/in/andremarcosperez/)\n",
        "\n",
        "---"
      ]
    },
    {
      "cell_type": "markdown",
      "metadata": {
        "id": "d9jDtUbDOE1-"
      },
      "source": [
        "# **Tópicos**\n",
        "\n",
        "<ol type=\"1\">\n",
        "  <li>Introdução ao Google Colab;</li>\n",
        "  <li>Variáveis;</li>\n",
        "  <li>Números;</li>\n",
        "  <li><i>Strings;</i></li>\n",
        "  <li>Boleanos.</li>\n",
        "</ol>"
      ]
    },
    {
      "cell_type": "markdown",
      "metadata": {
        "id": "SmoHgt-lwkpD"
      },
      "source": [
        "---"
      ]
    },
    {
      "cell_type": "markdown",
      "metadata": {
        "id": "GABI6OW8OfQ2"
      },
      "source": [
        "# **Exercícios**"
      ]
    },
    {
      "cell_type": "markdown",
      "metadata": {
        "id": "muD1vxozykSC"
      },
      "source": [
        "## 1\\. Google Colab"
      ]
    },
    {
      "cell_type": "markdown",
      "metadata": {
        "id": "ahrFfCuBxJKs"
      },
      "source": [
        "Crie uma célula de código que escreva o texto \"Olá mundo!\", utilize o comando `print`."
      ]
    },
    {
      "cell_type": "markdown",
      "metadata": {
        "id": "KI9zQRT2xa7m"
      },
      "source": [
        "Crie uma célua de texto e adicione uma imagem."
      ]
    },
    {
      "cell_type": "code",
      "source": [
        "primeiro_codigo = 'Olá, mundo!'\n",
        "print(primeiro_codigo)"
      ],
      "metadata": {
        "colab": {
          "base_uri": "https://localhost:8080/"
        },
        "id": "mKk58pddzJl0",
        "outputId": "303a78db-8185-471a-cf6b-2e1be8414b0e"
      },
      "execution_count": null,
      "outputs": [
        {
          "output_type": "stream",
          "name": "stdout",
          "text": [
            "Olá, mundo!\n"
          ]
        }
      ]
    },
    {
      "cell_type": "markdown",
      "metadata": {
        "id": "zMN1Q3jdwoJm"
      },
      "source": [
        "---"
      ]
    },
    {
      "cell_type": "markdown",
      "metadata": {
        "id": "tFYOPLS3xiwe"
      },
      "source": [
        "## 2\\. Números"
      ]
    },
    {
      "cell_type": "markdown",
      "metadata": {
        "id": "O2G9gt7tx2c-"
      },
      "source": [
        "Preencha as células de código para preencher os valores de (A), (B) e (C) na tabela de ticket médio abaixo:\n",
        "\n",
        "<br>\n",
        "\n",
        "| Dia   | Valor Total Vendas | Qtd Total Vendas | Ticket Medio |\n",
        "|-------|--------------------|------------------|--------------|\n",
        "| 19/01 | (A)                | 3                | 320.52       |\n",
        "| 20/01 | 834.47             | (B)              | 119.21       |\n",
        "| 23/01 | 15378.12           | 5                | (C)          |"
      ]
    },
    {
      "cell_type": "code",
      "metadata": {
        "id": "nsrKH9EizNRD",
        "colab": {
          "base_uri": "https://localhost:8080/"
        },
        "outputId": "519510de-c5be-4313-eb34-474aeb71ce5b"
      },
      "source": [
        "# (A) = 106.839\n",
        "\n",
        "QntTotalVendas = 3\n",
        "TicketMedio = 320.52\n",
        "\n",
        "ValorTotal = QntTotalVendas/TicketMedio\n",
        "print(ValorTotal)"
      ],
      "execution_count": null,
      "outputs": [
        {
          "output_type": "stream",
          "name": "stdout",
          "text": [
            "0.009359790340696368\n"
          ]
        }
      ]
    },
    {
      "cell_type": "code",
      "metadata": {
        "id": "QQ1GBGHJzMmi",
        "colab": {
          "base_uri": "https://localhost:8080/"
        },
        "outputId": "a21e9857-5866-4372-9f09-70b6d788b373"
      },
      "source": [
        "# (B)\n",
        "\n",
        "VTV = 834.47\n",
        "TM = 119.21\n",
        "\n",
        "QuantidadeTotal = VTV/TM\n",
        "print(QuantidadeTotal)\n",
        "\n",
        "QuantidadeTotal = 7\n",
        "B = QuantidadeTotal\n",
        "print(B)"
      ],
      "execution_count": null,
      "outputs": [
        {
          "output_type": "stream",
          "name": "stdout",
          "text": [
            "7.000000000000001\n",
            "7\n"
          ]
        }
      ]
    },
    {
      "cell_type": "code",
      "metadata": {
        "id": "W-li0nSMzKNa",
        "colab": {
          "base_uri": "https://localhost:8080/"
        },
        "outputId": "e0d82119-bc89-4239-f107-93e19236b6b8"
      },
      "source": [
        "# (C)\n",
        "\n",
        "VendasTotal = 15378.12\n",
        "QntTotal = 5\n",
        "\n",
        "QuantidadeFinalMedio = VendasTotal/QntTotal\n",
        "print(QuantidadeFinalMedio)\n",
        "\n",
        "QuantidadeFinalMedio = 3075.6240\n",
        "C = QuantidadeFinalMedio\n",
        "print(C)"
      ],
      "execution_count": null,
      "outputs": [
        {
          "output_type": "stream",
          "name": "stdout",
          "text": [
            "3075.6240000000003\n",
            "3075.624\n"
          ]
        }
      ]
    },
    {
      "cell_type": "markdown",
      "metadata": {
        "id": "3eoP-Vj9yzh8"
      },
      "source": [
        "---"
      ]
    },
    {
      "cell_type": "markdown",
      "metadata": {
        "id": "yUJ6kdony6Pr"
      },
      "source": [
        "## 3\\. Strings"
      ]
    },
    {
      "cell_type": "markdown",
      "metadata": {
        "id": "KDuZpg-5zCvO"
      },
      "source": [
        "Aplique três métodos distintos na *string* abaixo, você pode conferir alguns métodos neste [link](https://www.w3schools.com/python/python_ref_string.asp):"
      ]
    },
    {
      "cell_type": "code",
      "metadata": {
        "id": "k9zbyf7BzjKj"
      },
      "source": [
        "cancao = 'Roda mundo, roda gigante, roda moinho, roda pião.'"
      ],
      "execution_count": null,
      "outputs": []
    },
    {
      "cell_type": "code",
      "source": [
        "X = cancao.count('roda')\n",
        "print(X)\n",
        "\n",
        "X = cancao.count('Roda')\n",
        "print(X)"
      ],
      "metadata": {
        "colab": {
          "base_uri": "https://localhost:8080/"
        },
        "id": "jMvLfDOg0KjF",
        "outputId": "bb5399f0-1fbd-4bde-9ee0-c5b2437fc98b"
      },
      "execution_count": null,
      "outputs": [
        {
          "output_type": "stream",
          "name": "stdout",
          "text": [
            "3\n",
            "1\n"
          ]
        }
      ]
    },
    {
      "cell_type": "code",
      "source": [
        "cancao = 'Roda mundo, roda gigante, roda moinho, roda pião.'\n",
        "\n",
        "x = cancao.replace('mundo', 'baiana')\n",
        "print(x)"
      ],
      "metadata": {
        "colab": {
          "base_uri": "https://localhost:8080/"
        },
        "id": "kR7t3_Yn0QLZ",
        "outputId": "17a84e8f-aa64-4792-8f97-003d9d1ec91c"
      },
      "execution_count": null,
      "outputs": [
        {
          "output_type": "stream",
          "name": "stdout",
          "text": [
            "Roda baiana, roda gigante, roda moinho, roda pião.\n"
          ]
        }
      ]
    },
    {
      "cell_type": "code",
      "source": [
        "cancao = 'Roda mundo, roda gigante, roda moinho, roda pião.'\n",
        "\n",
        "x = cancao.upper()\n",
        "\n",
        "\n",
        "print(x)"
      ],
      "metadata": {
        "colab": {
          "base_uri": "https://localhost:8080/"
        },
        "id": "uZeKC92w0UZa",
        "outputId": "cf2c166c-1ecb-4c66-d597-365c002dba7e"
      },
      "execution_count": null,
      "outputs": [
        {
          "output_type": "stream",
          "name": "stdout",
          "text": [
            "RODA MUNDO, RODA GIGANTE, RODA MOINHO, RODA PIÃO.\n"
          ]
        }
      ]
    },
    {
      "cell_type": "markdown",
      "metadata": {
        "id": "guZMHXVq0FnC"
      },
      "source": [
        "Extraia da string abaixo o valor da taxa **selic** na variável `selic` e o valor do **ano** na variavel `ano`. Imprima os valores na tela."
      ]
    },
    {
      "cell_type": "code",
      "metadata": {
        "id": "cbx_P4IQ0agK"
      },
      "source": [
        "noticia = 'Selic vai a 2,75% e supera expectativas; é a primeira alta em 6 anos.'"
      ],
      "execution_count": null,
      "outputs": []
    },
    {
      "cell_type": "code",
      "source": [
        "print(noticia)\n",
        "print(type(noticia))\n",
        "\n",
        "extrair = noticia[0:5]\n",
        "print(extrair)\n",
        "\n",
        "EXTRAIR = noticia[62:63]\n",
        "print(EXTRAIR)\n"
      ],
      "metadata": {
        "colab": {
          "base_uri": "https://localhost:8080/"
        },
        "id": "g6LpJAzJ0Za1",
        "outputId": "96461650-521e-4877-a211-372e687c75c0"
      },
      "execution_count": null,
      "outputs": [
        {
          "output_type": "stream",
          "name": "stdout",
          "text": [
            "Selic vai a 2,75% e supera expectativas; é a primeira alta em 6 anos.\n",
            "<class 'str'>\n",
            "Selic\n",
            "6\n"
          ]
        }
      ]
    },
    {
      "cell_type": "markdown",
      "metadata": {
        "id": "wWzbu-OC0z3L"
      },
      "source": [
        "---"
      ]
    },
    {
      "cell_type": "markdown",
      "metadata": {
        "id": "no8w_Ati01xP"
      },
      "source": [
        "## 4\\. Booleanos"
      ]
    },
    {
      "cell_type": "markdown",
      "metadata": {
        "id": "D_0tC3SC099N"
      },
      "source": [
        "Utilize a tabela da verdade para responder: qual o valor da variável x?"
      ]
    },
    {
      "cell_type": "code",
      "metadata": {
        "id": "XwIEbxf91SpU",
        "colab": {
          "base_uri": "https://localhost:8080/"
        },
        "outputId": "e3f1d1a9-b128-4382-bf4c-75755e428199"
      },
      "source": [
        "a = False\n",
        "b = True\n",
        "\n",
        "x = not a & b\n",
        "\n",
        "print(x)"
      ],
      "execution_count": null,
      "outputs": [
        {
          "output_type": "stream",
          "name": "stdout",
          "text": [
            "True\n"
          ]
        }
      ]
    }
  ]
}
